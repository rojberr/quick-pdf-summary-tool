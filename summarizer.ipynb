{
 "cells": [
  {
   "cell_type": "code",
   "execution_count": null,
   "id": "44e48f25",
   "metadata": {},
   "outputs": [],
   "source": [
    "# Install dependencies\n",
    "%pip install huggingface_hub PyPDF2 transformers"
   ]
  },
  {
   "cell_type": "code",
   "execution_count": null,
   "id": "705ec09c",
   "metadata": {},
   "outputs": [],
   "source": [
    "# Get your huggingface token and input it here!\n",
    "# https://huggingface.co/settings/tokens\n",
    "import os\n",
    "os.environ['HF_TOKEN'] = '<your_huggingface_token_here>'"
   ]
  },
  {
   "cell_type": "code",
   "execution_count": null,
   "id": "a08352a7",
   "metadata": {},
   "outputs": [],
   "source": [
    "# Read file\n",
    "import PyPDF2\n",
    "from transformers import pipeline\n",
    "from transformers import AutoTokenizer\n",
    "\n",
    "with open('ai_future_jobs_report.pdf', 'rb') as file:\n",
    "    pdf_reader = PyPDF2.PdfReader(file)\n",
    "    text = \"\"\n",
    "    for page in pdf_reader.pages:\n",
    "        text += page.extract_text()"
   ]
  },
  {
   "cell_type": "code",
   "execution_count": 4,
   "id": "ceeca70f",
   "metadata": {},
   "outputs": [
    {
     "name": "stdout",
     "output_type": "stream",
     "text": [
      "Token count (tokenize): 206779\n"
     ]
    }
   ],
   "source": [
    "# Check number of Tokens\n",
    "tokenizer = AutoTokenizer.from_pretrained(\"facebook/bart-large-cnn\") \n",
    "tokens = tokenizer.tokenize(text)\n",
    "\n",
    "print(\"Token count (tokenize):\", len(tokens))"
   ]
  }
 ],
 "metadata": {
  "kernelspec": {
   "display_name": "Python 3",
   "language": "python",
   "name": "python3"
  },
  "language_info": {
   "codemirror_mode": {
    "name": "ipython",
    "version": 3
   },
   "file_extension": ".py",
   "mimetype": "text/x-python",
   "name": "python",
   "nbconvert_exporter": "python",
   "pygments_lexer": "ipython3",
   "version": "3.12.1"
  }
 },
 "nbformat": 4,
 "nbformat_minor": 5
}
